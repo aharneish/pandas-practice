{
 "cells": [
  {
   "cell_type": "markdown",
   "id": "e913444f",
   "metadata": {},
   "source": [
    "# Pandas Exercises\n",
    " Date: 23/09/2022"
   ]
  },
  {
   "cell_type": "markdown",
   "id": "ba75c937",
   "metadata": {},
   "source": [
    "1. Combine many series to form a dataframe?\n"
   ]
  },
  {
   "cell_type": "code",
   "execution_count": 1,
   "id": "deb31be5",
   "metadata": {},
   "outputs": [],
   "source": [
    "import pandas as pd\n",
    "import numpy as np\n",
    "from dateutil.parser import parse"
   ]
  },
  {
   "cell_type": "code",
   "execution_count": 2,
   "id": "3b457d83",
   "metadata": {},
   "outputs": [],
   "source": [
    "ser1=pd.Series(list('abcdefghijklmnopqrstuvwxyz'))\n",
    "ser2=pd.Series(np.arange(26))"
   ]
  },
  {
   "cell_type": "code",
   "execution_count": 3,
   "id": "c0fc61d2",
   "metadata": {},
   "outputs": [
    {
     "data": {
      "text/plain": [
       "0     a\n",
       "1     b\n",
       "2     c\n",
       "3     d\n",
       "4     e\n",
       "5     f\n",
       "6     g\n",
       "7     h\n",
       "8     i\n",
       "9     j\n",
       "10    k\n",
       "11    l\n",
       "12    m\n",
       "13    n\n",
       "14    o\n",
       "15    p\n",
       "16    q\n",
       "17    r\n",
       "18    s\n",
       "19    t\n",
       "20    u\n",
       "21    v\n",
       "22    w\n",
       "23    x\n",
       "24    y\n",
       "25    z\n",
       "dtype: object"
      ]
     },
     "execution_count": 3,
     "metadata": {},
     "output_type": "execute_result"
    }
   ],
   "source": [
    "ser1"
   ]
  },
  {
   "cell_type": "code",
   "execution_count": 4,
   "id": "4a557bd5",
   "metadata": {},
   "outputs": [
    {
     "data": {
      "text/plain": [
       "0      0\n",
       "1      1\n",
       "2      2\n",
       "3      3\n",
       "4      4\n",
       "5      5\n",
       "6      6\n",
       "7      7\n",
       "8      8\n",
       "9      9\n",
       "10    10\n",
       "11    11\n",
       "12    12\n",
       "13    13\n",
       "14    14\n",
       "15    15\n",
       "16    16\n",
       "17    17\n",
       "18    18\n",
       "19    19\n",
       "20    20\n",
       "21    21\n",
       "22    22\n",
       "23    23\n",
       "24    24\n",
       "25    25\n",
       "dtype: int32"
      ]
     },
     "execution_count": 4,
     "metadata": {},
     "output_type": "execute_result"
    }
   ],
   "source": [
    "ser2"
   ]
  },
  {
   "cell_type": "code",
   "execution_count": 5,
   "id": "c2591b60",
   "metadata": {},
   "outputs": [],
   "source": [
    "df=pd.DataFrame({'ser1':ser1,'ser2':ser2})"
   ]
  },
  {
   "cell_type": "code",
   "execution_count": 6,
   "id": "88dfbbe7",
   "metadata": {},
   "outputs": [
    {
     "data": {
      "text/html": [
       "<div>\n",
       "<style scoped>\n",
       "    .dataframe tbody tr th:only-of-type {\n",
       "        vertical-align: middle;\n",
       "    }\n",
       "\n",
       "    .dataframe tbody tr th {\n",
       "        vertical-align: top;\n",
       "    }\n",
       "\n",
       "    .dataframe thead th {\n",
       "        text-align: right;\n",
       "    }\n",
       "</style>\n",
       "<table border=\"1\" class=\"dataframe\">\n",
       "  <thead>\n",
       "    <tr style=\"text-align: right;\">\n",
       "      <th></th>\n",
       "      <th>ser1</th>\n",
       "      <th>ser2</th>\n",
       "    </tr>\n",
       "  </thead>\n",
       "  <tbody>\n",
       "    <tr>\n",
       "      <th>0</th>\n",
       "      <td>a</td>\n",
       "      <td>0</td>\n",
       "    </tr>\n",
       "    <tr>\n",
       "      <th>1</th>\n",
       "      <td>b</td>\n",
       "      <td>1</td>\n",
       "    </tr>\n",
       "    <tr>\n",
       "      <th>2</th>\n",
       "      <td>c</td>\n",
       "      <td>2</td>\n",
       "    </tr>\n",
       "    <tr>\n",
       "      <th>3</th>\n",
       "      <td>d</td>\n",
       "      <td>3</td>\n",
       "    </tr>\n",
       "    <tr>\n",
       "      <th>4</th>\n",
       "      <td>e</td>\n",
       "      <td>4</td>\n",
       "    </tr>\n",
       "  </tbody>\n",
       "</table>\n",
       "</div>"
      ],
      "text/plain": [
       "  ser1  ser2\n",
       "0    a     0\n",
       "1    b     1\n",
       "2    c     2\n",
       "3    d     3\n",
       "4    e     4"
      ]
     },
     "execution_count": 6,
     "metadata": {},
     "output_type": "execute_result"
    }
   ],
   "source": [
    "df.head()"
   ]
  },
  {
   "cell_type": "markdown",
   "id": "e6e5666c",
   "metadata": {},
   "source": [
    "2. Get items of series A not present in series B?"
   ]
  },
  {
   "cell_type": "code",
   "execution_count": 7,
   "id": "4dc7c405",
   "metadata": {},
   "outputs": [
    {
     "data": {
      "text/plain": [
       "[4, 5]"
      ]
     },
     "execution_count": 7,
     "metadata": {},
     "output_type": "execute_result"
    }
   ],
   "source": [
    "ser1=pd.Series([1,2,3,4,5])\n",
    "ser2=pd.Series([4,5,6,7,8])\n",
    "ser3=[]\n",
    "for i in range(0,len(ser1)):\n",
    "    for j in range(0,len(ser2)):\n",
    "        if ser1[i]==ser2[j]:\n",
    "            ser3.append(ser1[i])\n",
    "ser3"
   ]
  },
  {
   "cell_type": "markdown",
   "id": "13e5b488",
   "metadata": {},
   "source": [
    "3.  How to get the items not common to both series A and series B?"
   ]
  },
  {
   "cell_type": "code",
   "execution_count": 8,
   "id": "218eca50",
   "metadata": {},
   "outputs": [
    {
     "name": "stdout",
     "output_type": "stream",
     "text": [
      "[array([1, 2, 3, 4, 5, 6, 7, 8], dtype=int64)]\n"
     ]
    }
   ],
   "source": [
    "ser1 = pd.Series([1, 2, 3, 4, 5])\n",
    "ser2 = pd.Series([4, 5, 6, 7, 8])\n",
    "ser3=[] \n",
    "ser3.append(np.union1d(ser1,ser2))\n",
    "print(ser3)"
   ]
  },
  {
   "cell_type": "markdown",
   "id": "ae3fcfcc",
   "metadata": {},
   "source": [
    "4. To find the positions of numbers that are multiples of 3 from a series"
   ]
  },
  {
   "cell_type": "code",
   "execution_count": 9,
   "id": "648e5ca1",
   "metadata": {},
   "outputs": [
    {
     "name": "stdout",
     "output_type": "stream",
     "text": [
      "position of the multiple of 3 is in 1 which has the multiple 3\n",
      "position of the multiple of 3 is in 6 which has the multiple 9\n"
     ]
    }
   ],
   "source": [
    "ser=pd.Series(np.random.randint(1,10,7))\n",
    "ser\n",
    "for i in range(len(ser)):\n",
    "    if ser[i]%3==0:\n",
    "        print(f\"position of the multiple of 3 is in {i} which has the multiple {ser[i]}\")"
   ]
  },
  {
   "cell_type": "markdown",
   "id": "08af46f1",
   "metadata": {},
   "source": [
    "5. How to extract items at given positions from a series"
   ]
  },
  {
   "cell_type": "code",
   "execution_count": 10,
   "id": "5158c871",
   "metadata": {},
   "outputs": [
    {
     "name": "stdout",
     "output_type": "stream",
     "text": [
      "a\n",
      "e\n",
      "i\n",
      "o\n",
      "u\n"
     ]
    }
   ],
   "source": [
    "ser = pd.Series(list('abcdefghijklmnopqrstuvwxyz'))\n",
    "pos = [0, 4, 8, 14, 20]\n",
    "for i in pos:\n",
    "    print(ser[i])"
   ]
  },
  {
   "cell_type": "markdown",
   "id": "fa0ce36e",
   "metadata": {},
   "source": [
    "6. How to convert the first character of each element in a series to uppercase?"
   ]
  },
  {
   "cell_type": "code",
   "execution_count": 11,
   "id": "b8b5d0b8",
   "metadata": {
    "scrolled": true
   },
   "outputs": [
    {
     "name": "stdout",
     "output_type": "stream",
     "text": [
      "How\n",
      "To\n",
      "Kick\n",
      "Ass?\n"
     ]
    }
   ],
   "source": [
    "ser = pd.Series(['how', 'to', 'kick', 'ass?'])\n",
    "for i in range(len(ser)):\n",
    "    print(ser[i].title())"
   ]
  },
  {
   "cell_type": "markdown",
   "id": "ced3ed53",
   "metadata": {},
   "source": [
    "7. How to calculate the number of characters in each word in a series?"
   ]
  },
  {
   "cell_type": "code",
   "execution_count": 12,
   "id": "3982776c",
   "metadata": {},
   "outputs": [
    {
     "name": "stdout",
     "output_type": "stream",
     "text": [
      "3\n",
      "2\n",
      "4\n",
      "4\n"
     ]
    }
   ],
   "source": [
    "ser=pd.Series(['how','to','kick','ass?'])\n",
    "for i in range(len(ser)):\n",
    "    print(len(ser[i]))"
   ]
  },
  {
   "cell_type": "markdown",
   "id": "2adc04cf",
   "metadata": {},
   "source": [
    "8. How to compute difference of differences between consequtive numbers of a series?"
   ]
  },
  {
   "cell_type": "code",
   "execution_count": 13,
   "id": "443abff4",
   "metadata": {},
   "outputs": [
    {
     "name": "stdout",
     "output_type": "stream",
     "text": [
      "[nan, 2.0, 3.0, 4.0, 5.0, 6.0, 6.0, 8.0]\n",
      "[nan, nan, 1.0, 1.0, 1.0, 1.0, 0.0, 2.0]\n"
     ]
    }
   ],
   "source": [
    "ser = pd.Series([1, 3, 6, 10, 15, 21, 27,35])\n",
    "print(ser.diff().tolist())\n",
    "print(ser.diff().diff().tolist())"
   ]
  },
  {
   "cell_type": "markdown",
   "id": "9284bc59",
   "metadata": {},
   "source": [
    "9. How to convert a numpy array to a dataframe of given shape?"
   ]
  },
  {
   "cell_type": "code",
   "execution_count": 14,
   "id": "cc61c5ef",
   "metadata": {},
   "outputs": [
    {
     "data": {
      "text/html": [
       "<div>\n",
       "<style scoped>\n",
       "    .dataframe tbody tr th:only-of-type {\n",
       "        vertical-align: middle;\n",
       "    }\n",
       "\n",
       "    .dataframe tbody tr th {\n",
       "        vertical-align: top;\n",
       "    }\n",
       "\n",
       "    .dataframe thead th {\n",
       "        text-align: right;\n",
       "    }\n",
       "</style>\n",
       "<table border=\"1\" class=\"dataframe\">\n",
       "  <thead>\n",
       "    <tr style=\"text-align: right;\">\n",
       "      <th></th>\n",
       "      <th>0</th>\n",
       "      <th>1</th>\n",
       "      <th>2</th>\n",
       "      <th>3</th>\n",
       "      <th>4</th>\n",
       "    </tr>\n",
       "  </thead>\n",
       "  <tbody>\n",
       "    <tr>\n",
       "      <th>0</th>\n",
       "      <td>6</td>\n",
       "      <td>8</td>\n",
       "      <td>7</td>\n",
       "      <td>6</td>\n",
       "      <td>7</td>\n",
       "    </tr>\n",
       "    <tr>\n",
       "      <th>1</th>\n",
       "      <td>9</td>\n",
       "      <td>9</td>\n",
       "      <td>9</td>\n",
       "      <td>5</td>\n",
       "      <td>1</td>\n",
       "    </tr>\n",
       "    <tr>\n",
       "      <th>2</th>\n",
       "      <td>6</td>\n",
       "      <td>6</td>\n",
       "      <td>8</td>\n",
       "      <td>3</td>\n",
       "      <td>4</td>\n",
       "    </tr>\n",
       "    <tr>\n",
       "      <th>3</th>\n",
       "      <td>4</td>\n",
       "      <td>2</td>\n",
       "      <td>5</td>\n",
       "      <td>3</td>\n",
       "      <td>2</td>\n",
       "    </tr>\n",
       "    <tr>\n",
       "      <th>4</th>\n",
       "      <td>8</td>\n",
       "      <td>1</td>\n",
       "      <td>6</td>\n",
       "      <td>7</td>\n",
       "      <td>8</td>\n",
       "    </tr>\n",
       "    <tr>\n",
       "      <th>5</th>\n",
       "      <td>5</td>\n",
       "      <td>2</td>\n",
       "      <td>8</td>\n",
       "      <td>7</td>\n",
       "      <td>8</td>\n",
       "    </tr>\n",
       "    <tr>\n",
       "      <th>6</th>\n",
       "      <td>2</td>\n",
       "      <td>7</td>\n",
       "      <td>6</td>\n",
       "      <td>9</td>\n",
       "      <td>9</td>\n",
       "    </tr>\n",
       "  </tbody>\n",
       "</table>\n",
       "</div>"
      ],
      "text/plain": [
       "   0  1  2  3  4\n",
       "0  6  8  7  6  7\n",
       "1  9  9  9  5  1\n",
       "2  6  6  8  3  4\n",
       "3  4  2  5  3  2\n",
       "4  8  1  6  7  8\n",
       "5  5  2  8  7  8\n",
       "6  2  7  6  9  9"
      ]
     },
     "execution_count": 14,
     "metadata": {},
     "output_type": "execute_result"
    }
   ],
   "source": [
    "ser=pd.Series(np.random.randint(1,10,35))\n",
    "df=pd.DataFrame(ser.values.reshape(7,5))\n",
    "df"
   ]
  },
  {
   "cell_type": "markdown",
   "id": "935c9454",
   "metadata": {},
   "source": [
    "10. How to stack two series vertically and horizontally?"
   ]
  },
  {
   "cell_type": "code",
   "execution_count": 15,
   "id": "5a2cb5d2",
   "metadata": {},
   "outputs": [
    {
     "name": "stdout",
     "output_type": "stream",
     "text": [
      "0    0\n",
      "1    1\n",
      "2    2\n",
      "3    3\n",
      "4    4\n",
      "dtype: int64\n",
      "   0  1\n",
      "0  0  a\n",
      "1  1  b\n",
      "2  2  c\n",
      "3  3  d\n",
      "4  4  e\n"
     ]
    },
    {
     "name": "stderr",
     "output_type": "stream",
     "text": [
      "C:\\Users\\Msc 1\\AppData\\Local\\Temp\\ipykernel_1312\\1421675151.py:3: FutureWarning: The series.append method is deprecated and will be removed from pandas in a future version. Use pandas.concat instead.\n",
      "  ser1.append(ser2)\n"
     ]
    }
   ],
   "source": [
    "ser1=pd.Series(range(5))\n",
    "ser2=pd.Series(list('abcde'))\n",
    "ser1.append(ser2)\n",
    "hs=pd.concat([ser1,ser2],axis=1)\n",
    "print(ser1)\n",
    "print(hs)"
   ]
  },
  {
   "cell_type": "markdown",
   "id": "ae892744",
   "metadata": {},
   "source": [
    "11. How to convert a series of date-strings to a timeseries?"
   ]
  },
  {
   "cell_type": "code",
   "execution_count": 16,
   "id": "d878d54e",
   "metadata": {},
   "outputs": [
    {
     "data": {
      "text/plain": [
       "0   2010-01-01 00:00:00\n",
       "1   2011-02-02 00:00:00\n",
       "2   2012-03-03 00:00:00\n",
       "3   2013-04-04 00:00:00\n",
       "4   2014-05-05 00:00:00\n",
       "5   2015-06-06 12:20:00\n",
       "dtype: datetime64[ns]"
      ]
     },
     "execution_count": 16,
     "metadata": {},
     "output_type": "execute_result"
    }
   ],
   "source": [
    "ser=pd.Series(['01 Jan 2010', '02-02-2011', '20120303', '2013/04/04', '2014-05-05', '2015-06-06T12:20'])\n",
    "pd.to_datetime(ser)"
   ]
  },
  {
   "cell_type": "markdown",
   "id": "3a548e8e",
   "metadata": {},
   "source": [
    "12. How to filter words that contain atleast 2 volwels from a series?"
   ]
  },
  {
   "cell_type": "code",
   "execution_count": 17,
   "id": "51945456",
   "metadata": {},
   "outputs": [
    {
     "data": {
      "text/plain": [
       "0     Apple\n",
       "1    Orange\n",
       "4     Money\n",
       "dtype: object"
      ]
     },
     "execution_count": 17,
     "metadata": {},
     "output_type": "execute_result"
    }
   ],
   "source": [
    "from collections import Counter\n",
    "ser=pd.Series(['Apple','Orange','Plan','Python','Money'])\n",
    "\n",
    "mask = ser.map(lambda x: sum([Counter(x.lower()).get(i, 0) for i in list('aeiou')]) >= 2)\n",
    "ser[mask]"
   ]
  },
  {
   "cell_type": "markdown",
   "id": "64af9404",
   "metadata": {},
   "source": [
    "13. How to filter valid emails from a series?"
   ]
  },
  {
   "cell_type": "code",
   "execution_count": 18,
   "id": "5f9cc966",
   "metadata": {},
   "outputs": [
    {
     "data": {
      "text/plain": [
       "1    rameses@egypt.com\n",
       "2            matt@t.co\n",
       "3    narendra@modi.com\n",
       "dtype: object"
      ]
     },
     "execution_count": 18,
     "metadata": {},
     "output_type": "execute_result"
    }
   ],
   "source": [
    "import re\n",
    "emails = pd.Series(['buying books at amazom.com', 'rameses@egypt.com', 'matt@t.co', 'narendra@modi.com'])\n",
    "pattern ='[A-Za-z0-9._%+-]+@[A-Za-z0-9.-]+\\\\.[A-Za-z]{2,4}'\n",
    "mask=emails.map(lambda x: bool(re.search(pattern,x,re.IGNORECASE)))\n",
    "emails[mask]"
   ]
  },
  {
   "cell_type": "markdown",
   "id": "1fba6c64",
   "metadata": {},
   "source": [
    "14. How to assign name to series' index?"
   ]
  },
  {
   "cell_type": "code",
   "execution_count": 19,
   "id": "da12e22d",
   "metadata": {},
   "outputs": [
    {
     "data": {
      "text/plain": [
       "0    a\n",
       "1    b\n",
       "2    c\n",
       "3    d\n",
       "4    e\n",
       "Name: alphabets, dtype: object"
      ]
     },
     "execution_count": 19,
     "metadata": {},
     "output_type": "execute_result"
    }
   ],
   "source": [
    "ser=pd.Series(list('abcdefghijklmonpqrstuvwxyz'))\n",
    "ser.name='alphabets'\n",
    "ser.head()"
   ]
  },
  {
   "cell_type": "markdown",
   "id": "572ba16e",
   "metadata": {},
   "source": [
    "15. How to get the minimum, 25th percentile,median,75th, and max of a numeric series?"
   ]
  },
  {
   "cell_type": "code",
   "execution_count": 20,
   "id": "08ac2125",
   "metadata": {},
   "outputs": [
    {
     "name": "stdout",
     "output_type": "stream",
     "text": [
      "0     11.383910\n",
      "1      0.320913\n",
      "2     10.342146\n",
      "3      4.736834\n",
      "4      3.498469\n",
      "5     15.192389\n",
      "6      8.449520\n",
      "7      8.924377\n",
      "8     13.421016\n",
      "9      9.874630\n",
      "10     5.414442\n",
      "11    11.392045\n",
      "12    16.008246\n",
      "13    15.673256\n",
      "14     9.111691\n",
      "15    10.181377\n",
      "16    21.389584\n",
      "17     7.124431\n",
      "18     6.548270\n",
      "19     9.084945\n",
      "20    14.252399\n",
      "21    10.258997\n",
      "22     0.297043\n",
      "23    11.309581\n",
      "24    14.964132\n",
      "dtype: float64\n"
     ]
    },
    {
     "data": {
      "text/plain": [
       "array([ 0.29704283,  7.12443086, 10.18137673, 13.42101605, 21.38958389])"
      ]
     },
     "execution_count": 20,
     "metadata": {},
     "output_type": "execute_result"
    }
   ],
   "source": [
    "ser=pd.Series(np.random.normal(10,5,25))\n",
    "mini=0\n",
    "maximum=0\n",
    "print(ser)\n",
    "np.percentile(ser,q=[0,25,50,75,100])"
   ]
  },
  {
   "cell_type": "markdown",
   "id": "4063cb00",
   "metadata": {},
   "source": [
    "16. How to import pandas and check the version?"
   ]
  },
  {
   "cell_type": "code",
   "execution_count": 21,
   "id": "9d2a3e39",
   "metadata": {},
   "outputs": [
    {
     "name": "stdout",
     "output_type": "stream",
     "text": [
      "1.4.3\n"
     ]
    }
   ],
   "source": [
    "print(pd.__version__)"
   ]
  },
  {
   "cell_type": "markdown",
   "id": "44ccf015",
   "metadata": {},
   "source": [
    "17. How to create a series from a list, numpy array and dict?"
   ]
  },
  {
   "cell_type": "code",
   "execution_count": 22,
   "id": "63a90dc1",
   "metadata": {},
   "outputs": [
    {
     "name": "stdout",
     "output_type": "stream",
     "text": [
      "a    0\n",
      "b    1\n",
      "c    2\n",
      "e    3\n",
      "d    4\n",
      "dtype: int32\n"
     ]
    }
   ],
   "source": [
    "mylist = list('abcedfghijklmnopqrstuvwxyz')\n",
    "myarr = np.arange(26)\n",
    "mydict = dict(zip(mylist, myarr))\n",
    "ser1 = pd.Series(mylist)\n",
    "ser2 = pd.Series(myarr)\n",
    "ser3 = pd.Series(mydict)\n",
    "print(ser3.head())"
   ]
  },
  {
   "cell_type": "markdown",
   "id": "57d702e3",
   "metadata": {},
   "source": [
    "18. How to convert the index of a series into a column of a dataframe?"
   ]
  },
  {
   "cell_type": "code",
   "execution_count": 23,
   "id": "deca9103",
   "metadata": {},
   "outputs": [
    {
     "name": "stdout",
     "output_type": "stream",
     "text": [
      "  index  0\n",
      "0     a  0\n",
      "1     b  1\n",
      "2     c  2\n",
      "3     e  3\n",
      "4     d  4\n"
     ]
    }
   ],
   "source": [
    "mylist = list('abcedfghijklmnopqrstuvwxyz')\n",
    "myarr = np.arange(26)\n",
    "mydict = dict(zip(mylist, myarr))\n",
    "ser = pd.Series(mydict)\n",
    "df = ser.to_frame().reset_index()\n",
    "print(df.head())"
   ]
  },
  {
   "cell_type": "markdown",
   "id": "476f4a84",
   "metadata": {},
   "source": [
    "19. How to get frequency counts of unique items of a series?"
   ]
  },
  {
   "cell_type": "code",
   "execution_count": 24,
   "id": "670d513b",
   "metadata": {},
   "outputs": [
    {
     "data": {
      "text/plain": [
       "c    5\n",
       "g    5\n",
       "a    4\n",
       "f    4\n",
       "b    4\n",
       "e    3\n",
       "h    3\n",
       "d    2\n",
       "dtype: int64"
      ]
     },
     "execution_count": 24,
     "metadata": {},
     "output_type": "execute_result"
    }
   ],
   "source": [
    "ser = pd.Series(np.take(list('abcdefgh'), np.random.randint(8, size=30)))\n",
    "ser.value_counts()"
   ]
  },
  {
   "cell_type": "markdown",
   "id": "af2abbf3",
   "metadata": {},
   "source": [
    "20. How to keep only 2 most frequent values as it is and replace everything else as 'Other'?"
   ]
  },
  {
   "cell_type": "code",
   "execution_count": 25,
   "id": "6b0640d1",
   "metadata": {},
   "outputs": [
    {
     "data": {
      "text/plain": [
       "0     Other\n",
       "1     Other\n",
       "2         1\n",
       "3         1\n",
       "4         3\n",
       "5         3\n",
       "6         3\n",
       "7     Other\n",
       "8         3\n",
       "9         3\n",
       "10        1\n",
       "11        3\n",
       "dtype: object"
      ]
     },
     "execution_count": 25,
     "metadata": {},
     "output_type": "execute_result"
    }
   ],
   "source": [
    "np.random.RandomState(100)\n",
    "ser=pd.Series(np.random.randint(1,5,[12]))\n",
    "ser[~ser.isin(ser.value_counts().index[:2])]='Other'\n",
    "ser"
   ]
  },
  {
   "cell_type": "markdown",
   "id": "1354194f",
   "metadata": {},
   "source": [
    "21. How to bin a numeric series to 10 groups of equal size?"
   ]
  },
  {
   "cell_type": "code",
   "execution_count": 26,
   "id": "c34a9d59",
   "metadata": {},
   "outputs": [
    {
     "name": "stdout",
     "output_type": "stream",
     "text": [
      "0    0.476175\n",
      "1    0.219840\n",
      "2    0.738766\n",
      "3    0.314422\n",
      "4    0.223038\n",
      "dtype: float64\n"
     ]
    },
    {
     "data": {
      "text/plain": [
       "0    8th\n",
       "1    4th\n",
       "2    9th\n",
       "3    6th\n",
       "4    4th\n",
       "dtype: category\n",
       "Categories (10, object): ['1st' < '2nd' < '3rd' < '4th' ... '7th' < '8th' < '9th' < '10th']"
      ]
     },
     "execution_count": 26,
     "metadata": {},
     "output_type": "execute_result"
    }
   ],
   "source": [
    "ser=pd.Series(np.random.random(20))\n",
    "print(ser.head())\n",
    "pd.qcut(ser,q=[0,.10,.20,.3,.4,.5,.6,.7,.8,.9,1],labels=['1st',\n",
    "                                                        '2nd',\n",
    "                                                        '3rd',\n",
    "                                                        '4th',\n",
    "                                                        '5th',\n",
    "                                                        '6th',\n",
    "                                                        '7th',\n",
    "                                                        '8th',\n",
    "                                                        '9th',\n",
    "                                                        '10th']).head()"
   ]
  },
  {
   "cell_type": "markdown",
   "id": "dbfd9291",
   "metadata": {},
   "source": [
    "22. How to get the positions of items of series A in another series B?"
   ]
  },
  {
   "cell_type": "code",
   "execution_count": 27,
   "id": "cb00aa6d",
   "metadata": {},
   "outputs": [
    {
     "name": "stdout",
     "output_type": "stream",
     "text": [
      "5\n",
      "4\n",
      "0\n",
      "8\n"
     ]
    }
   ],
   "source": [
    "ser1 = pd.Series([10, 9, 6, 5, 3, 1, 12, 8, 13])\n",
    "ser2 = pd.Series([1, 3, 10, 13])\n",
    "for i in ser2:\n",
    "    print(pd.Index(ser1).get_loc(i))"
   ]
  },
  {
   "cell_type": "markdown",
   "id": "39dfd90f",
   "metadata": {},
   "source": [
    "23. How to compute the mean squared error on a truth and predicted series?"
   ]
  },
  {
   "cell_type": "code",
   "execution_count": 28,
   "id": "9c41a551",
   "metadata": {},
   "outputs": [
    {
     "data": {
      "text/plain": [
       "0.5600634380537619"
      ]
     },
     "execution_count": 28,
     "metadata": {},
     "output_type": "execute_result"
    }
   ],
   "source": [
    "truth = pd.Series(range(10))\n",
    "pred = pd.Series(range(10)) + np.random.random(10)\n",
    "np.mean((truth-pred)**2)"
   ]
  },
  {
   "cell_type": "markdown",
   "id": "7313bedf",
   "metadata": {},
   "source": [
    "24.  How to convert year-month string to dates corresponding to the 4th day of the month?"
   ]
  },
  {
   "cell_type": "code",
   "execution_count": 29,
   "id": "975de2a6",
   "metadata": {},
   "outputs": [
    {
     "data": {
      "text/plain": [
       "['2010-01-04', '2011-02-04', '2013-03-04']"
      ]
     },
     "execution_count": 29,
     "metadata": {},
     "output_type": "execute_result"
    }
   ],
   "source": [
    "ser=pd.Series(['Jan 2010','Feb 2011','Mar 2013'])\n",
    "ser_ts=ser.map(lambda x: parse(x))\n",
    "ser_datestr=ser_ts.dt.year.astype('str')+'-'+ser_ts.dt.month.astype('str')+'-'+'04'\n",
    "[parse(i).strftime('%Y-%m-%d') for i in ser_datestr]"
   ]
  },
  {
   "cell_type": "markdown",
   "id": "84a7b153",
   "metadata": {},
   "source": [
    "25. How to get the mean of a series grouped by another series?"
   ]
  },
  {
   "cell_type": "code",
   "execution_count": 30,
   "id": "20e292e9",
   "metadata": {},
   "outputs": [
    {
     "name": "stdout",
     "output_type": "stream",
     "text": [
      "[1.0, 2.0, 3.0, 4.0, 5.0, 6.0, 7.0, 8.0, 9.0, 10.0]\n",
      "['banana', 'banana', 'carrot', 'carrot', 'carrot', 'apple', 'banana', 'carrot', 'banana', 'banana']\n"
     ]
    }
   ],
   "source": [
    "fruit = pd.Series(np.random.choice(['apple', 'banana', 'carrot'], 10))\n",
    "weights = pd.Series(np.linspace(1, 10, 10))\n",
    "weights.groupby(fruit).mean\n",
    "print(weights.tolist())\n",
    "print(fruit.tolist())"
   ]
  },
  {
   "cell_type": "markdown",
   "id": "77effea2",
   "metadata": {},
   "source": [
    "26. How to compute the euclidean distance between two series?"
   ]
  },
  {
   "cell_type": "code",
   "execution_count": 31,
   "id": "bd6abfaf",
   "metadata": {},
   "outputs": [
    {
     "data": {
      "text/plain": [
       "18.16590212458495"
      ]
     },
     "execution_count": 31,
     "metadata": {},
     "output_type": "execute_result"
    }
   ],
   "source": [
    "p = pd.Series([1, 2, 3, 4, 5, 6, 7, 8, 9, 10])\n",
    "q = pd.Series([10, 9, 8, 7, 6, 5, 4, 3, 2, 1])\n",
    "sum((p-q)**2)**.5"
   ]
  },
  {
   "cell_type": "markdown",
   "id": "aa45558d",
   "metadata": {},
   "source": [
    "27. How to find all the local maxima(or peaks) in a numeric series?"
   ]
  },
  {
   "cell_type": "code",
   "execution_count": 32,
   "id": "037b25ea",
   "metadata": {},
   "outputs": [
    {
     "data": {
      "text/plain": [
       "array([1, 5, 7], dtype=int64)"
      ]
     },
     "execution_count": 32,
     "metadata": {},
     "output_type": "execute_result"
    }
   ],
   "source": [
    "ser=pd.Series([2,10,3,4,9,10,2,7,3])\n",
    "dd=np.diff(np.sign(np.diff(ser)))\n",
    "peak_loc=np.where(dd==-2)[0]+1\n",
    "peak_loc"
   ]
  },
  {
   "cell_type": "markdown",
   "id": "753fdf36",
   "metadata": {},
   "source": [
    "28. How to replace missing spaces in a string with the least frequent character?"
   ]
  },
  {
   "cell_type": "code",
   "execution_count": 33,
   "id": "34ffe665",
   "metadata": {},
   "outputs": [
    {
     "name": "stdout",
     "output_type": "stream",
     "text": [
      "d    4\n",
      "b    3\n",
      "     3\n",
      "e    3\n",
      "a    2\n",
      "c    1\n",
      "g    1\n",
      "dtype: int64\n"
     ]
    },
    {
     "data": {
      "text/plain": [
       "'dbcgdebgabedggade'"
      ]
     },
     "execution_count": 33,
     "metadata": {},
     "output_type": "execute_result"
    }
   ],
   "source": [
    "my_str='dbc deb abed gade'\n",
    "ser=pd.Series(list(my_str))\n",
    "freq=ser.value_counts()\n",
    "print(freq)\n",
    "least_freq=freq.dropna().index[-1]\n",
    "\"\".join(ser.replace(' ',least_freq))"
   ]
  },
  {
   "cell_type": "markdown",
   "id": "16fc2f66",
   "metadata": {},
   "source": [
    "29. How to create a dataframe with rows as strides from a given series?"
   ]
  },
  {
   "cell_type": "code",
   "execution_count": 34,
   "id": "1bb23762",
   "metadata": {},
   "outputs": [
    {
     "data": {
      "text/plain": [
       "array([[ 0,  1,  2,  3],\n",
       "       [ 2,  3,  4,  5],\n",
       "       [ 4,  5,  6,  7],\n",
       "       [ 6,  7,  8,  9],\n",
       "       [ 8,  9, 10, 11],\n",
       "       [10, 11, 12, 13]], dtype=int64)"
      ]
     },
     "execution_count": 34,
     "metadata": {},
     "output_type": "execute_result"
    }
   ],
   "source": [
    "L = pd.Series(range(15))\n",
    "def gen_strides(a, stride_len=5, window_len=5):\n",
    "    n_strides = ((a.size-window_len)//stride_len) + 1\n",
    "    return np.array([a[s:(s+window_len)] for s in np.arange(0, a.size, stride_len)[:n_strides]])\n",
    "\n",
    "gen_strides(L, stride_len=2, window_len=4)"
   ]
  },
  {
   "cell_type": "markdown",
   "id": "6170e72f",
   "metadata": {},
   "source": [
    "30. How to import only specified columns from a csv file?"
   ]
  },
  {
   "cell_type": "code",
   "execution_count": 35,
   "id": "6cf55033",
   "metadata": {},
   "outputs": [
    {
     "data": {
      "text/html": [
       "<div>\n",
       "<style scoped>\n",
       "    .dataframe tbody tr th:only-of-type {\n",
       "        vertical-align: middle;\n",
       "    }\n",
       "\n",
       "    .dataframe tbody tr th {\n",
       "        vertical-align: top;\n",
       "    }\n",
       "\n",
       "    .dataframe thead th {\n",
       "        text-align: right;\n",
       "    }\n",
       "</style>\n",
       "<table border=\"1\" class=\"dataframe\">\n",
       "  <thead>\n",
       "    <tr style=\"text-align: right;\">\n",
       "      <th></th>\n",
       "      <th>country</th>\n",
       "      <th>type</th>\n",
       "    </tr>\n",
       "  </thead>\n",
       "  <tbody>\n",
       "    <tr>\n",
       "      <th>0</th>\n",
       "      <td>USA</td>\n",
       "      <td>TOWER</td>\n",
       "    </tr>\n",
       "    <tr>\n",
       "      <th>1</th>\n",
       "      <td>USA</td>\n",
       "      <td>AIRDROP</td>\n",
       "    </tr>\n",
       "    <tr>\n",
       "      <th>2</th>\n",
       "      <td>USA</td>\n",
       "      <td>AIRDROP</td>\n",
       "    </tr>\n",
       "    <tr>\n",
       "      <th>3</th>\n",
       "      <td>USA</td>\n",
       "      <td>AIRDROP</td>\n",
       "    </tr>\n",
       "    <tr>\n",
       "      <th>4</th>\n",
       "      <td>USA</td>\n",
       "      <td>UW</td>\n",
       "    </tr>\n",
       "  </tbody>\n",
       "</table>\n",
       "</div>"
      ],
      "text/plain": [
       "  country     type\n",
       "0     USA    TOWER\n",
       "1     USA  AIRDROP\n",
       "2     USA  AIRDROP\n",
       "3     USA  AIRDROP\n",
       "4     USA       UW"
      ]
     },
     "execution_count": 35,
     "metadata": {},
     "output_type": "execute_result"
    }
   ],
   "source": [
    "df=pd.read_csv('./nuclear-explosion-data.csv',usecols=['country','type'])\n",
    "df.head()"
   ]
  },
  {
   "cell_type": "markdown",
   "id": "2ab8e86b",
   "metadata": {},
   "source": [
    "31. How to change values when importing csv to a dataframe?"
   ]
  },
  {
   "cell_type": "code",
   "execution_count": 47,
   "id": "207aa6b8",
   "metadata": {},
   "outputs": [],
   "source": [
    "df = pd.read_csv('https://raw.githubusercontent.com/selva86/datasets/master/BostonHousing.csv', \n",
    "                 converters={'medv': lambda x: 'High' if float(x) > 25 else 'Low'})"
   ]
  },
  {
   "cell_type": "markdown",
   "id": "53c69f8d",
   "metadata": {},
   "source": [
    "32. How to get the nrows, ncolumns,datatype,summary stats of each column of a dataframe? Also get the array and list equivalent."
   ]
  },
  {
   "cell_type": "code",
   "execution_count": 37,
   "id": "68a45164",
   "metadata": {},
   "outputs": [
    {
     "name": "stdout",
     "output_type": "stream",
     "text": [
      "shape of the dataframe: \n",
      "\n",
      "(2051, 16)\n",
      "\n",
      "info of the dataframe: \n",
      "\n",
      "<bound method DataFrame.info of           date      time     id   country      region source    lat    long  \\\n",
      "0     19450716  123000.0  45001       USA  ALAMOGORDO    DOE  32.54 -105.57   \n",
      "1     19450805  231500.0  45002       USA   HIROSHIMA    DOE  34.23  132.27   \n",
      "2     19450809   15800.0  45003       USA    NAGASAKI    DOE  32.45  129.52   \n",
      "3     19460630  220100.0  46001       USA      BIKINI    DOE  11.35  165.20   \n",
      "4     19460724  213500.0  46002       USA      BIKINI    DOE  11.35  165.20   \n",
      "...        ...       ...    ...       ...         ...    ...    ...     ...   \n",
      "2046  19960729   14859.1  96003     CHINA     LOP NOR    HFS  41.69   88.35   \n",
      "2047  19980511  101344.0  98001     INDIA     POKHRAN    HFS  27.07   71.70   \n",
      "2048  19980513   65100.0  98003     INDIA     POKHRAN    NRD  27.07   71.70   \n",
      "2049  19980528  101617.6  98004  PAKISTAN      CHAGAI    HFS  28.90   64.89   \n",
      "2050  19980530   65457.1  98005  PAKISTAN      KHARAN    HFS  28.49   63.78   \n",
      "\n",
      "       mb   Ms  depth  yield_lower  yield_upper purpose        name     type  \n",
      "0     0.0  0.0  -0.10         21.0         21.0      WR     TRINITY    TOWER  \n",
      "1     0.0  0.0  -0.60         15.0         15.0  COMBAT   LITTLEBOY  AIRDROP  \n",
      "2     0.0  0.0  -0.60         21.0         21.0  COMBAT      FATMAN  AIRDROP  \n",
      "3     0.0  0.0  -0.20         21.0         21.0      WE        ABLE  AIRDROP  \n",
      "4     0.0  0.0   0.03         21.0         21.0      WE       BAKER       UW  \n",
      "...   ...  ...    ...          ...          ...     ...         ...      ...  \n",
      "2046  5.3  0.0   0.00          3.0         12.0      WR         NaN       UG  \n",
      "2047  5.3  0.0   0.00          0.0         20.0      WR  SHAKTI 1-3       UG  \n",
      "2048  0.0  0.0   0.00          0.0          1.0      WR         NaN       UG  \n",
      "2049  0.0  0.0   0.00          0.0         35.0      WR         NaN       UG  \n",
      "2050  5.0  0.0   0.00          0.0         18.0      WR         NaN       UG  \n",
      "\n",
      "[2051 rows x 16 columns]>\n",
      "descriprition/stats of the dataframe \n",
      "\n",
      "<bound method NDFrame.describe of           date      time     id   country      region source    lat    long  \\\n",
      "0     19450716  123000.0  45001       USA  ALAMOGORDO    DOE  32.54 -105.57   \n",
      "1     19450805  231500.0  45002       USA   HIROSHIMA    DOE  34.23  132.27   \n",
      "2     19450809   15800.0  45003       USA    NAGASAKI    DOE  32.45  129.52   \n",
      "3     19460630  220100.0  46001       USA      BIKINI    DOE  11.35  165.20   \n",
      "4     19460724  213500.0  46002       USA      BIKINI    DOE  11.35  165.20   \n",
      "...        ...       ...    ...       ...         ...    ...    ...     ...   \n",
      "2046  19960729   14859.1  96003     CHINA     LOP NOR    HFS  41.69   88.35   \n",
      "2047  19980511  101344.0  98001     INDIA     POKHRAN    HFS  27.07   71.70   \n",
      "2048  19980513   65100.0  98003     INDIA     POKHRAN    NRD  27.07   71.70   \n",
      "2049  19980528  101617.6  98004  PAKISTAN      CHAGAI    HFS  28.90   64.89   \n",
      "2050  19980530   65457.1  98005  PAKISTAN      KHARAN    HFS  28.49   63.78   \n",
      "\n",
      "       mb   Ms  depth  yield_lower  yield_upper purpose        name     type  \n",
      "0     0.0  0.0  -0.10         21.0         21.0      WR     TRINITY    TOWER  \n",
      "1     0.0  0.0  -0.60         15.0         15.0  COMBAT   LITTLEBOY  AIRDROP  \n",
      "2     0.0  0.0  -0.60         21.0         21.0  COMBAT      FATMAN  AIRDROP  \n",
      "3     0.0  0.0  -0.20         21.0         21.0      WE        ABLE  AIRDROP  \n",
      "4     0.0  0.0   0.03         21.0         21.0      WE       BAKER       UW  \n",
      "...   ...  ...    ...          ...          ...     ...         ...      ...  \n",
      "2046  5.3  0.0   0.00          3.0         12.0      WR         NaN       UG  \n",
      "2047  5.3  0.0   0.00          0.0         20.0      WR  SHAKTI 1-3       UG  \n",
      "2048  0.0  0.0   0.00          0.0          1.0      WR         NaN       UG  \n",
      "2049  0.0  0.0   0.00          0.0         35.0      WR         NaN       UG  \n",
      "2050  5.0  0.0   0.00          0.0         18.0      WR         NaN       UG  \n",
      "\n",
      "[2051 rows x 16 columns]>\n"
     ]
    }
   ],
   "source": [
    "df=pd.read_csv('./nuclear-explosion-data.csv')\n",
    "print(\"shape of the dataframe: \")\n",
    "print(\"\")\n",
    "print(df.shape)\n",
    "print(\"\")\n",
    "print(\"info of the dataframe: \")\n",
    "print(\"\")\n",
    "print(df.info)\n",
    "print(\"descriprition/stats of the dataframe \")\n",
    "print(\"\")\n",
    "print(df.describe)\n",
    "df_arr = df.values\n",
    "df_list = df.values.tolist()\n"
   ]
  },
  {
   "cell_type": "markdown",
   "id": "384a55c9",
   "metadata": {},
   "source": [
    "33. How to rename a specific columns in a dataframe?"
   ]
  },
  {
   "cell_type": "code",
   "execution_count": 38,
   "id": "b11896fa",
   "metadata": {},
   "outputs": [
    {
     "name": "stdout",
     "output_type": "stream",
     "text": [
      "Index(['date', 'time', 'id', 'country', 'region', 'source', 'lat', 'long',\n",
      "       'mb', 'Ms', 'depth', 'yield_lower', 'yield_upper', 'purpose', 'name',\n",
      "       'type'],\n",
      "      dtype='object')\n"
     ]
    },
    {
     "data": {
      "text/plain": [
       "Index(['date', 'time', 'id', 'country', 'region', 'source', 'latitude', 'long',\n",
       "       'mb', 'Ms', 'depth', 'yield_lower', 'yield_upper', 'purpose', 'name',\n",
       "       'type'],\n",
       "      dtype='object')"
      ]
     },
     "execution_count": 38,
     "metadata": {},
     "output_type": "execute_result"
    }
   ],
   "source": [
    "df=pd.read_csv('nuclear-explosion-data.csv')\n",
    "print(df.columns)\n",
    "df=df.rename(columns={'lat':'latitude'})\n",
    "df.columns"
   ]
  },
  {
   "cell_type": "markdown",
   "id": "1a0f30ce",
   "metadata": {},
   "source": [
    "34. How to check if a dataframe has any missing values?"
   ]
  },
  {
   "cell_type": "code",
   "execution_count": 39,
   "id": "48564b1a",
   "metadata": {},
   "outputs": [
    {
     "data": {
      "text/plain": [
       "True"
      ]
     },
     "execution_count": 39,
     "metadata": {},
     "output_type": "execute_result"
    }
   ],
   "source": [
    "df=pd.read_csv('nuclear-explosion-data.csv')\n",
    "df.isnull().values.any()"
   ]
  },
  {
   "cell_type": "markdown",
   "id": "4c019b14",
   "metadata": {},
   "source": [
    "35. How to count the number of missing values in each column?"
   ]
  },
  {
   "cell_type": "code",
   "execution_count": 40,
   "id": "e11547f3",
   "metadata": {},
   "outputs": [
    {
     "data": {
      "text/plain": [
       "date             0\n",
       "time             0\n",
       "id               0\n",
       "country          0\n",
       "region           0\n",
       "source           0\n",
       "lat              0\n",
       "long             0\n",
       "mb               0\n",
       "Ms               0\n",
       "depth            0\n",
       "yield_lower      3\n",
       "yield_upper      5\n",
       "purpose          1\n",
       "name           665\n",
       "type             0\n",
       "dtype: int64"
      ]
     },
     "execution_count": 40,
     "metadata": {},
     "output_type": "execute_result"
    }
   ],
   "source": [
    "df=pd.read_csv('nuclear-explosion-data.csv')\n",
    "df.isnull().sum()"
   ]
  },
  {
   "cell_type": "markdown",
   "id": "07228734",
   "metadata": {},
   "source": [
    "36. How to select a specific column from a dataframe as a dataframe instead of a series?"
   ]
  },
  {
   "cell_type": "code",
   "execution_count": 41,
   "id": "c3214fcf",
   "metadata": {},
   "outputs": [
    {
     "data": {
      "text/plain": [
       "pandas.core.frame.DataFrame"
      ]
     },
     "execution_count": 41,
     "metadata": {},
     "output_type": "execute_result"
    }
   ],
   "source": [
    "df = pd.DataFrame(np.arange(20).reshape(-1, 5), columns=list('abcde'))\n",
    "type([df[['a']]])\n",
    "type(df.loc[:,['a']])"
   ]
  },
  {
   "cell_type": "markdown",
   "id": "d66d4900",
   "metadata": {},
   "source": [
    "37. How tyo change the order of columns of a dataframe?"
   ]
  },
  {
   "cell_type": "code",
   "execution_count": 42,
   "id": "ef7a7fcc",
   "metadata": {},
   "outputs": [
    {
     "data": {
      "text/html": [
       "<div>\n",
       "<style scoped>\n",
       "    .dataframe tbody tr th:only-of-type {\n",
       "        vertical-align: middle;\n",
       "    }\n",
       "\n",
       "    .dataframe tbody tr th {\n",
       "        vertical-align: top;\n",
       "    }\n",
       "\n",
       "    .dataframe thead th {\n",
       "        text-align: right;\n",
       "    }\n",
       "</style>\n",
       "<table border=\"1\" class=\"dataframe\">\n",
       "  <thead>\n",
       "    <tr style=\"text-align: right;\">\n",
       "      <th></th>\n",
       "      <th>c</th>\n",
       "      <th>b</th>\n",
       "      <th>a</th>\n",
       "      <th>d</th>\n",
       "      <th>e</th>\n",
       "    </tr>\n",
       "  </thead>\n",
       "  <tbody>\n",
       "    <tr>\n",
       "      <th>0</th>\n",
       "      <td>2</td>\n",
       "      <td>1</td>\n",
       "      <td>0</td>\n",
       "      <td>3</td>\n",
       "      <td>4</td>\n",
       "    </tr>\n",
       "    <tr>\n",
       "      <th>1</th>\n",
       "      <td>7</td>\n",
       "      <td>6</td>\n",
       "      <td>5</td>\n",
       "      <td>8</td>\n",
       "      <td>9</td>\n",
       "    </tr>\n",
       "    <tr>\n",
       "      <th>2</th>\n",
       "      <td>12</td>\n",
       "      <td>11</td>\n",
       "      <td>10</td>\n",
       "      <td>13</td>\n",
       "      <td>14</td>\n",
       "    </tr>\n",
       "    <tr>\n",
       "      <th>3</th>\n",
       "      <td>17</td>\n",
       "      <td>16</td>\n",
       "      <td>15</td>\n",
       "      <td>18</td>\n",
       "      <td>19</td>\n",
       "    </tr>\n",
       "  </tbody>\n",
       "</table>\n",
       "</div>"
      ],
      "text/plain": [
       "    c   b   a   d   e\n",
       "0   2   1   0   3   4\n",
       "1   7   6   5   8   9\n",
       "2  12  11  10  13  14\n",
       "3  17  16  15  18  19"
      ]
     },
     "execution_count": 42,
     "metadata": {},
     "output_type": "execute_result"
    }
   ],
   "source": [
    "df = pd.DataFrame(np.arange(20).reshape(-1, 5), columns=list('abcde'))\n",
    "df[list('cbade')]"
   ]
  },
  {
   "cell_type": "markdown",
   "id": "2af70ca0",
   "metadata": {},
   "source": [
    "38. How to set the number of rows and columns displayed in the output?"
   ]
  },
  {
   "cell_type": "code",
   "execution_count": 43,
   "id": "7471055a",
   "metadata": {},
   "outputs": [
    {
     "data": {
      "text/html": [
       "<div>\n",
       "<style scoped>\n",
       "    .dataframe tbody tr th:only-of-type {\n",
       "        vertical-align: middle;\n",
       "    }\n",
       "\n",
       "    .dataframe tbody tr th {\n",
       "        vertical-align: top;\n",
       "    }\n",
       "\n",
       "    .dataframe thead th {\n",
       "        text-align: right;\n",
       "    }\n",
       "</style>\n",
       "<table border=\"1\" class=\"dataframe\">\n",
       "  <thead>\n",
       "    <tr style=\"text-align: right;\">\n",
       "      <th></th>\n",
       "      <th>date</th>\n",
       "      <th>time</th>\n",
       "      <th>id</th>\n",
       "      <th>country</th>\n",
       "      <th>region</th>\n",
       "      <th>...</th>\n",
       "      <th>yield_lower</th>\n",
       "      <th>yield_upper</th>\n",
       "      <th>purpose</th>\n",
       "      <th>name</th>\n",
       "      <th>type</th>\n",
       "    </tr>\n",
       "  </thead>\n",
       "  <tbody>\n",
       "    <tr>\n",
       "      <th>0</th>\n",
       "      <td>19450716</td>\n",
       "      <td>123000.0</td>\n",
       "      <td>45001</td>\n",
       "      <td>USA</td>\n",
       "      <td>ALAMOGORDO</td>\n",
       "      <td>...</td>\n",
       "      <td>21.0</td>\n",
       "      <td>21.0</td>\n",
       "      <td>WR</td>\n",
       "      <td>TRINITY</td>\n",
       "      <td>TOWER</td>\n",
       "    </tr>\n",
       "    <tr>\n",
       "      <th>1</th>\n",
       "      <td>19450805</td>\n",
       "      <td>231500.0</td>\n",
       "      <td>45002</td>\n",
       "      <td>USA</td>\n",
       "      <td>HIROSHIMA</td>\n",
       "      <td>...</td>\n",
       "      <td>15.0</td>\n",
       "      <td>15.0</td>\n",
       "      <td>COMBAT</td>\n",
       "      <td>LITTLEBOY</td>\n",
       "      <td>AIRDROP</td>\n",
       "    </tr>\n",
       "    <tr>\n",
       "      <th>2</th>\n",
       "      <td>19450809</td>\n",
       "      <td>15800.0</td>\n",
       "      <td>45003</td>\n",
       "      <td>USA</td>\n",
       "      <td>NAGASAKI</td>\n",
       "      <td>...</td>\n",
       "      <td>21.0</td>\n",
       "      <td>21.0</td>\n",
       "      <td>COMBAT</td>\n",
       "      <td>FATMAN</td>\n",
       "      <td>AIRDROP</td>\n",
       "    </tr>\n",
       "    <tr>\n",
       "      <th>3</th>\n",
       "      <td>19460630</td>\n",
       "      <td>220100.0</td>\n",
       "      <td>46001</td>\n",
       "      <td>USA</td>\n",
       "      <td>BIKINI</td>\n",
       "      <td>...</td>\n",
       "      <td>21.0</td>\n",
       "      <td>21.0</td>\n",
       "      <td>WE</td>\n",
       "      <td>ABLE</td>\n",
       "      <td>AIRDROP</td>\n",
       "    </tr>\n",
       "    <tr>\n",
       "      <th>4</th>\n",
       "      <td>19460724</td>\n",
       "      <td>213500.0</td>\n",
       "      <td>46002</td>\n",
       "      <td>USA</td>\n",
       "      <td>BIKINI</td>\n",
       "      <td>...</td>\n",
       "      <td>21.0</td>\n",
       "      <td>21.0</td>\n",
       "      <td>WE</td>\n",
       "      <td>BAKER</td>\n",
       "      <td>UW</td>\n",
       "    </tr>\n",
       "    <tr>\n",
       "      <th>...</th>\n",
       "      <td>...</td>\n",
       "      <td>...</td>\n",
       "      <td>...</td>\n",
       "      <td>...</td>\n",
       "      <td>...</td>\n",
       "      <td>...</td>\n",
       "      <td>...</td>\n",
       "      <td>...</td>\n",
       "      <td>...</td>\n",
       "      <td>...</td>\n",
       "      <td>...</td>\n",
       "    </tr>\n",
       "    <tr>\n",
       "      <th>2046</th>\n",
       "      <td>19960729</td>\n",
       "      <td>14859.1</td>\n",
       "      <td>96003</td>\n",
       "      <td>CHINA</td>\n",
       "      <td>LOP NOR</td>\n",
       "      <td>...</td>\n",
       "      <td>3.0</td>\n",
       "      <td>12.0</td>\n",
       "      <td>WR</td>\n",
       "      <td>NaN</td>\n",
       "      <td>UG</td>\n",
       "    </tr>\n",
       "    <tr>\n",
       "      <th>2047</th>\n",
       "      <td>19980511</td>\n",
       "      <td>101344.0</td>\n",
       "      <td>98001</td>\n",
       "      <td>INDIA</td>\n",
       "      <td>POKHRAN</td>\n",
       "      <td>...</td>\n",
       "      <td>0.0</td>\n",
       "      <td>20.0</td>\n",
       "      <td>WR</td>\n",
       "      <td>SHAKTI 1-3</td>\n",
       "      <td>UG</td>\n",
       "    </tr>\n",
       "    <tr>\n",
       "      <th>2048</th>\n",
       "      <td>19980513</td>\n",
       "      <td>65100.0</td>\n",
       "      <td>98003</td>\n",
       "      <td>INDIA</td>\n",
       "      <td>POKHRAN</td>\n",
       "      <td>...</td>\n",
       "      <td>0.0</td>\n",
       "      <td>1.0</td>\n",
       "      <td>WR</td>\n",
       "      <td>NaN</td>\n",
       "      <td>UG</td>\n",
       "    </tr>\n",
       "    <tr>\n",
       "      <th>2049</th>\n",
       "      <td>19980528</td>\n",
       "      <td>101617.6</td>\n",
       "      <td>98004</td>\n",
       "      <td>PAKISTAN</td>\n",
       "      <td>CHAGAI</td>\n",
       "      <td>...</td>\n",
       "      <td>0.0</td>\n",
       "      <td>35.0</td>\n",
       "      <td>WR</td>\n",
       "      <td>NaN</td>\n",
       "      <td>UG</td>\n",
       "    </tr>\n",
       "    <tr>\n",
       "      <th>2050</th>\n",
       "      <td>19980530</td>\n",
       "      <td>65457.1</td>\n",
       "      <td>98005</td>\n",
       "      <td>PAKISTAN</td>\n",
       "      <td>KHARAN</td>\n",
       "      <td>...</td>\n",
       "      <td>0.0</td>\n",
       "      <td>18.0</td>\n",
       "      <td>WR</td>\n",
       "      <td>NaN</td>\n",
       "      <td>UG</td>\n",
       "    </tr>\n",
       "  </tbody>\n",
       "</table>\n",
       "<p>2051 rows × 16 columns</p>\n",
       "</div>"
      ],
      "text/plain": [
       "          date      time     id   country      region  ... yield_lower  \\\n",
       "0     19450716  123000.0  45001       USA  ALAMOGORDO  ...        21.0   \n",
       "1     19450805  231500.0  45002       USA   HIROSHIMA  ...        15.0   \n",
       "2     19450809   15800.0  45003       USA    NAGASAKI  ...        21.0   \n",
       "3     19460630  220100.0  46001       USA      BIKINI  ...        21.0   \n",
       "4     19460724  213500.0  46002       USA      BIKINI  ...        21.0   \n",
       "...        ...       ...    ...       ...         ...  ...         ...   \n",
       "2046  19960729   14859.1  96003     CHINA     LOP NOR  ...         3.0   \n",
       "2047  19980511  101344.0  98001     INDIA     POKHRAN  ...         0.0   \n",
       "2048  19980513   65100.0  98003     INDIA     POKHRAN  ...         0.0   \n",
       "2049  19980528  101617.6  98004  PAKISTAN      CHAGAI  ...         0.0   \n",
       "2050  19980530   65457.1  98005  PAKISTAN      KHARAN  ...         0.0   \n",
       "\n",
       "      yield_upper  purpose        name     type  \n",
       "0            21.0       WR     TRINITY    TOWER  \n",
       "1            15.0   COMBAT   LITTLEBOY  AIRDROP  \n",
       "2            21.0   COMBAT      FATMAN  AIRDROP  \n",
       "3            21.0       WE        ABLE  AIRDROP  \n",
       "4            21.0       WE       BAKER       UW  \n",
       "...           ...      ...         ...      ...  \n",
       "2046         12.0       WR         NaN       UG  \n",
       "2047         20.0       WR  SHAKTI 1-3       UG  \n",
       "2048          1.0       WR         NaN       UG  \n",
       "2049         35.0       WR         NaN       UG  \n",
       "2050         18.0       WR         NaN       UG  \n",
       "\n",
       "[2051 rows x 16 columns]"
      ]
     },
     "execution_count": 43,
     "metadata": {},
     "output_type": "execute_result"
    }
   ],
   "source": [
    "df=pd.read_csv('nuclear-explosion-data.csv')\n",
    "pd.set_option('display.max_columns', 10)\n",
    "pd.set_option('display.max_rows', 10)\n",
    "df"
   ]
  },
  {
   "cell_type": "markdown",
   "id": "29a23867",
   "metadata": {},
   "source": [
    "39. How to format all the values in a dataframe as percentages?"
   ]
  },
  {
   "cell_type": "code",
   "execution_count": 44,
   "id": "151cc5e9",
   "metadata": {},
   "outputs": [
    {
     "data": {
      "text/html": [
       "<style type=\"text/css\">\n",
       "</style>\n",
       "<table id=\"T_b59d1\">\n",
       "  <thead>\n",
       "    <tr>\n",
       "      <th class=\"blank level0\" >&nbsp;</th>\n",
       "      <th id=\"T_b59d1_level0_col0\" class=\"col_heading level0 col0\" >random</th>\n",
       "    </tr>\n",
       "  </thead>\n",
       "  <tbody>\n",
       "    <tr>\n",
       "      <th id=\"T_b59d1_level0_row0\" class=\"row_heading level0 row0\" >0</th>\n",
       "      <td id=\"T_b59d1_row0_col0\" class=\"data row0 col0\" >38.76%</td>\n",
       "    </tr>\n",
       "    <tr>\n",
       "      <th id=\"T_b59d1_level0_row1\" class=\"row_heading level0 row1\" >1</th>\n",
       "      <td id=\"T_b59d1_row1_col0\" class=\"data row1 col0\" >80.94%</td>\n",
       "    </tr>\n",
       "    <tr>\n",
       "      <th id=\"T_b59d1_level0_row2\" class=\"row_heading level0 row2\" >2</th>\n",
       "      <td id=\"T_b59d1_row2_col0\" class=\"data row2 col0\" >19.99%</td>\n",
       "    </tr>\n",
       "    <tr>\n",
       "      <th id=\"T_b59d1_level0_row3\" class=\"row_heading level0 row3\" >3</th>\n",
       "      <td id=\"T_b59d1_row3_col0\" class=\"data row3 col0\" >12.90%</td>\n",
       "    </tr>\n",
       "  </tbody>\n",
       "</table>\n"
      ],
      "text/plain": [
       "<pandas.io.formats.style.Styler at 0x2560190ed60>"
      ]
     },
     "execution_count": 44,
     "metadata": {},
     "output_type": "execute_result"
    }
   ],
   "source": [
    "df=pd.DataFrame(np.random.random(4),columns=['random'])\n",
    "out=df.style.format({\n",
    "    'random':'{0:.2%}'.format,\n",
    "})\n",
    "out"
   ]
  },
  {
   "cell_type": "markdown",
   "id": "60f80ab9",
   "metadata": {},
   "source": [
    "40. How t filter every nth row in a dataframe?"
   ]
  },
  {
   "cell_type": "code",
   "execution_count": 45,
   "id": "252d9b72",
   "metadata": {
    "scrolled": true
   },
   "outputs": [
    {
     "name": "stdout",
     "output_type": "stream",
     "text": [
      "     country      type purpose\n",
      "0        USA     TOWER      WR\n",
      "20       USA     TOWER      WR\n",
      "40       USA     TOWER      WR\n",
      "60       USA     BARGE      WR\n",
      "80       USA   AIRDROP      WR\n",
      "...      ...       ...     ...\n",
      "1960  FRANCE  SHAFT/LG      WR\n",
      "1980    USSR     SHAFT      WR\n",
      "2000     USA     SHAFT      WR\n",
      "2020  FRANCE  SHAFT/LG      WR\n",
      "2040  FRANCE        UG      WR\n",
      "\n",
      "[103 rows x 3 columns]\n"
     ]
    }
   ],
   "source": [
    "df=pd.read_csv('nuclear-explosion-data.csv')\n",
    "print(df.iloc[::20,:][['country','type','purpose']])"
   ]
  },
  {
   "cell_type": "markdown",
   "id": "987b9e31",
   "metadata": {},
   "source": [
    "41. How to get the row number of the nth largest value in a column?\n"
   ]
  },
  {
   "cell_type": "code",
   "execution_count": 46,
   "id": "170d9de1",
   "metadata": {},
   "outputs": [
    {
     "name": "stdout",
     "output_type": "stream",
     "text": [
      "    a   b   c\n",
      "0  10   7  16\n",
      "1  21  12  15\n",
      "2  28  29  17\n",
      "3   4  15  14\n",
      "4   9  11  21\n",
      "5   1  20  26\n",
      "6  10  17   8\n",
      "7   8   9  17\n",
      "8  28   7   5\n",
      "9  28   3  21\n",
      "6\n"
     ]
    }
   ],
   "source": [
    "df = pd.DataFrame(np.random.randint(1, 30, 30).reshape(10,-1), columns=list('abc'))\n",
    "print(df)\n",
    "n=5\n",
    "print(df['a'].argsort()[::-1][n])"
   ]
  },
  {
   "cell_type": "markdown",
   "id": "abcbc80d",
   "metadata": {},
   "source": [
    "42. How to get the last n rows of a datafrme with row sum>100?"
   ]
  },
  {
   "cell_type": "code",
   "execution_count": 51,
   "id": "f8452692",
   "metadata": {},
   "outputs": [
    {
     "name": "stdout",
     "output_type": "stream",
     "text": [
      "0    24\n",
      "1    36\n",
      "2    30\n",
      "3    28\n",
      "Name: 13, dtype: int32\n"
     ]
    }
   ],
   "source": [
    "df=pd.DataFrame(np.random.randint(10,40,60).reshape(-1,4))\n",
    "rowsum=df.apply(np.sum,axis=1)\n",
    "last_2_rows=df.iloc[np.where(rowsum>100)[0][-2],:]\n",
    "print(last_2_rows)"
   ]
  },
  {
   "cell_type": "markdown",
   "id": "e6375cc4",
   "metadata": {},
   "source": [
    "43. How to swap two rows of a dataframe?"
   ]
  },
  {
   "cell_type": "code",
   "execution_count": 53,
   "id": "e7b3e667",
   "metadata": {},
   "outputs": [
    {
     "name": "stdout",
     "output_type": "stream",
     "text": [
      "    0   1   2   3   4\n",
      "0   0   1   2   3   4\n",
      "1  10  11  12  13  14\n",
      "2   5   6   7   8   9\n",
      "3  15  16  17  18  19\n",
      "4  20  21  22  23  24\n"
     ]
    }
   ],
   "source": [
    "df=pd.DataFrame(np.arange(25).reshape(5,-1))\n",
    "def swap_rows(df, i1, i2):\n",
    "    a, b = df.iloc[i1, :].copy(), df.iloc[i2, :].copy()\n",
    "    df.iloc[i1, :], df.iloc[i2, :] = b, a\n",
    "    return df\n",
    "\n",
    "print(swap_rows(df, 1, 2))"
   ]
  },
  {
   "cell_type": "markdown",
   "id": "dad6c67e",
   "metadata": {},
   "source": [
    "44. Which column contains the highest number of rowwise maximum values?"
   ]
  },
  {
   "cell_type": "code",
   "execution_count": 54,
   "id": "48d432dc",
   "metadata": {
    "scrolled": true
   },
   "outputs": [
    {
     "name": "stdout",
     "output_type": "stream",
     "text": [
      "Column with highest row maxes:  0\n"
     ]
    }
   ],
   "source": [
    "df = pd.DataFrame(np.random.randint(1,100, 40).reshape(10, -1))\n",
    "print('Column with highest row maxes: ', df.apply(np.argmax, axis=1).value_counts().index[0])"
   ]
  },
  {
   "cell_type": "markdown",
   "id": "a7140c21",
   "metadata": {},
   "source": [
    "45.  How to create a column containing the minimum by maximum of each row?"
   ]
  },
  {
   "cell_type": "code",
   "execution_count": 62,
   "id": "51035a32",
   "metadata": {},
   "outputs": [
    {
     "data": {
      "text/plain": [
       "0    0.213483\n",
       "1    0.247191\n",
       "2    0.012821\n",
       "3    0.030612\n",
       "4    0.070707\n",
       "5    0.138298\n",
       "6    0.262500\n",
       "7    0.010753\n",
       "dtype: float64"
      ]
     },
     "execution_count": 62,
     "metadata": {},
     "output_type": "execute_result"
    }
   ],
   "source": [
    "df = pd.DataFrame(np.random.randint(1,100, 80).reshape(8, -1))\n",
    "min_by_max = np.min(df, axis=1)/np.max(df, axis=1)\n",
    "min_by_max"
   ]
  },
  {
   "cell_type": "markdown",
   "id": "7ba5854e",
   "metadata": {},
   "source": [
    "46.  How to create a column that contains the penultimate value in each row?"
   ]
  },
  {
   "cell_type": "code",
   "execution_count": 61,
   "id": "b90b9baa",
   "metadata": {},
   "outputs": [
    {
     "name": "stdout",
     "output_type": "stream",
     "text": [
      "    0   1   2   3   4  ...   6   7   8   9  penultimate\n",
      "0   1  55   5  56  47  ...  49  63   6  32           63\n",
      "1  49  64  31  20  60  ...   4  41  68  68           64\n",
      "2  99  32  46  45  63  ...  37  29  49  26           94\n",
      "3  56  58  27  62  15  ...  59  25  62  67           62\n",
      "4  11  24  45  76  97  ...  43  77  58  75           77\n",
      "5  80  37  24  90  16  ...  69  95  19  37           90\n",
      "6  98  63  15  56  83  ...  58  87  93  60           93\n",
      "7  51  11  23  30   1  ...  50  54  22  63           55\n",
      "\n",
      "[8 rows x 11 columns]\n"
     ]
    }
   ],
   "source": [
    "df = pd.DataFrame(np.random.randint(1,100, 80).reshape(8, -1))\n",
    "out = df.apply(lambda x: x.sort_values().unique()[-2], axis=1)\n",
    "df['penultimate'] = out\n",
    "print(df)"
   ]
  },
  {
   "cell_type": "markdown",
   "id": "99432312",
   "metadata": {},
   "source": [
    "47. How to normalize all columns in a dataframe?"
   ]
  },
  {
   "cell_type": "code",
   "execution_count": 60,
   "id": "63ade8f6",
   "metadata": {},
   "outputs": [
    {
     "name": "stdout",
     "output_type": "stream",
     "text": [
      "Solution \n",
      "       0     1     2     3     4     5     6     7     8     9\n",
      "0  1.00 -0.50 -0.44  0.21  0.71 -0.51 -0.33  0.48  0.05 -0.69\n",
      "1 -0.71 -1.40 -0.33 -1.21  0.20  0.98  0.04 -1.18 -0.75  0.99\n",
      "2  0.12  0.02 -1.29  0.11 -0.49 -1.34  1.36  0.25 -0.56  0.94\n",
      "3 -0.11 -0.24  0.20 -1.21  0.85 -0.27  0.21  0.32 -0.91 -0.80\n",
      "4  1.10  0.88  1.73  1.86  1.54  1.34 -1.18 -1.18 -0.27 -1.15\n",
      "5 -1.92  1.01  0.99  0.66 -1.35 -1.16  1.50 -0.56  2.14 -0.80\n",
      "6  0.73 -1.10 -1.00 -0.30 -0.39  0.09 -0.60  1.87  0.69  0.06\n",
      "7 -0.20  1.31  0.13 -0.11 -1.07  0.86 -1.01  0.01 -0.40  1.44\n",
      "Solution \n",
      "       0     1     2     3     4     5     6     7     8     9\n",
      "0  0.03  0.67  0.72  0.54  0.29  0.69  0.68  0.46  0.68  0.82\n",
      "1  0.60  1.00  0.68  1.00  0.46  0.13  0.54  1.00  0.95  0.17\n",
      "2  0.32  0.48  1.00  0.57  0.70  1.00  0.05  0.53  0.88  0.19\n",
      "3  0.40  0.57  0.51  1.00  0.24  0.60  0.48  0.51  1.00  0.86\n",
      "4  0.00  0.16  0.00  0.00  0.00  0.00  1.00  1.00  0.79  1.00\n",
      "5  1.00  0.11  0.25  0.39  1.00  0.93  0.00  0.80  0.00  0.86\n",
      "6  0.12  0.89  0.91  0.70  0.67  0.47  0.78  0.00  0.47  0.53\n",
      "7  0.43  0.00  0.53  0.64  0.90  0.18  0.94  0.61  0.83  0.00\n"
     ]
    }
   ],
   "source": [
    "df = pd.DataFrame(np.random.randint(1,100, 80).reshape(8, -1))\n",
    "#normalising by subracting the col mean and div by std\n",
    "out1 = df.apply(lambda x: ((x - x.mean())/x.std()).round(2))\n",
    "print('Solution \\n',out1)\n",
    "#Range all columns of df such that the minimum value in each column is 0 and max is 1.\n",
    "out2 = df.apply(lambda x: ((x.max() - x)/(x.max() - x.min())).round(2))\n",
    "print('Solution \\n', out2)  "
   ]
  },
  {
   "cell_type": "markdown",
   "id": "167335b2",
   "metadata": {},
   "source": [
    "48.  How to replace both the diagonals of dataframe with 0?"
   ]
  },
  {
   "cell_type": "code",
   "execution_count": 58,
   "id": "f8651506",
   "metadata": {},
   "outputs": [
    {
     "name": "stdout",
     "output_type": "stream",
     "text": [
      "    0   1   2   3   4   5   6   7   8   9\n",
      "0  97  30  86  90  63  87  46  14  47   9\n",
      "1  22  70  15   6  70  88  13  36  65  63\n",
      "2  43  98  36  91  98  52   3  78  87   1\n",
      "3  84  81  10  29  49  56  98  53  86  92\n",
      "4  24  47  31  62  45  86  56   8   1  40\n",
      "5   1  80  38  22  73  20  27  17  81  47\n",
      "6  12   8  78   3  57  98  28  30  55  63\n",
      "7  60  16  79  39  56  67  41  59  24  17\n",
      "8  54   9   2  25  99  53  96  80  36  19\n",
      "9  34  72   8  75  29  51   7  53  27  46\n",
      "after replacing\n",
      "    0   1   2   3   4   5   6   7   8   9\n",
      "0   0  30  86  90  63  87  46  14  47   0\n",
      "1  22   0  15   6  70  88  13  36   0  63\n",
      "2  43  98   0  91  98  52   3   0  87   1\n",
      "3  84  81  10   0  49  56   0  53  86  92\n",
      "4  24  47  31  62   0   0  56   8   1  40\n",
      "5   1  80  38  22   0   0  27  17  81  47\n",
      "6  12   8  78   0  57  98   0  30  55  63\n",
      "7  60  16   0  39  56  67  41   0  24  17\n",
      "8  54   0   2  25  99  53  96  80   0  19\n",
      "9   0  72   8  75  29  51   7  53  27   0\n"
     ]
    }
   ],
   "source": [
    "df = pd.DataFrame(np.random.randint(1,100, 100).reshape(10, -1))\n",
    "print(df)\n",
    "for i in range(df.shape[0]):\n",
    "    df.iat[i, i] = 0\n",
    "    df.iat[df.shape[0]-i-1, i] = 0\n",
    "print(\"after replacing\")\n",
    "print(df)"
   ]
  },
  {
   "cell_type": "markdown",
   "id": "69cd2c47",
   "metadata": {},
   "source": [
    "49. How to get the frequency of unique values in the entire dataframe?"
   ]
  },
  {
   "cell_type": "code",
   "execution_count": 56,
   "id": "65cb3c17",
   "metadata": {},
   "outputs": [
    {
     "data": {
      "text/plain": [
       "5    5\n",
       "8    3\n",
       "3    2\n",
       "4    2\n",
       "2    2\n",
       "7    2\n",
       "1    2\n",
       "6    1\n",
       "9    1\n",
       "dtype: int64"
      ]
     },
     "execution_count": 56,
     "metadata": {},
     "output_type": "execute_result"
    }
   ],
   "source": [
    "df = pd.DataFrame(np.random.randint(1, 10, 20).reshape(-1, 4), columns = list('abcd'))\n",
    "pd.value_counts(df.values.ravel())"
   ]
  },
  {
   "cell_type": "markdown",
   "id": "6c8a3b8e",
   "metadata": {},
   "source": [
    "50.  How to join two dataframes by 2 columns so they have only the common rows?"
   ]
  },
  {
   "cell_type": "code",
   "execution_count": 55,
   "id": "f58cc339",
   "metadata": {},
   "outputs": [],
   "source": [
    "df1 = pd.DataFrame({'fruit': ['apple', 'banana', 'orange'] * 3,\n",
    "                    'weight': ['high', 'medium', 'low'] * 3,\n",
    "                    'price': np.random.randint(0, 15, 9)})\n",
    "\n",
    "df2 = pd.DataFrame({'pazham': ['apple', 'orange', 'pine'] * 2,\n",
    "                    'kilo': ['high', 'low'] * 3,\n",
    "                    'price': np.random.randint(0, 15, 6)})\n"
   ]
  }
 ],
 "metadata": {
  "kernelspec": {
   "display_name": "Python 3 (ipykernel)",
   "language": "python",
   "name": "python3"
  },
  "language_info": {
   "codemirror_mode": {
    "name": "ipython",
    "version": 3
   },
   "file_extension": ".py",
   "mimetype": "text/x-python",
   "name": "python",
   "nbconvert_exporter": "python",
   "pygments_lexer": "ipython3",
   "version": "3.9.13"
  }
 },
 "nbformat": 4,
 "nbformat_minor": 5
}
